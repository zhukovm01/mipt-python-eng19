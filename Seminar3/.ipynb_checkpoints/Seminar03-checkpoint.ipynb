{
 "cells": [
  {
   "cell_type": "code",
   "execution_count": 1,
   "metadata": {
    "slideshow": {
     "slide_type": "skip"
    }
   },
   "outputs": [],
   "source": [
    "from IPython.core.interactiveshell import InteractiveShell\n",
    "InteractiveShell.ast_node_interactivity = \"all\""
   ]
  },
  {
   "cell_type": "markdown",
   "metadata": {
    "slideshow": {
     "slide_type": "slide"
    }
   },
   "source": [
    "# PYTHON 3\n",
    "\n",
    "## Dictionaries, sets, collections\n",
    "\n",
    "\n",
    "### Eugene Baulin\n",
    "\n",
    "\n",
    "MIPT 2019"
   ]
  },
  {
   "cell_type": "markdown",
   "metadata": {
    "slideshow": {
     "slide_type": "slide"
    }
   },
   "source": [
    "### Creating and deleting\n",
    "\n",
    " \n",
    "- When creating two mutable objects separately, they will be guaranteed to be different. For immutable objects, this is not always true.\n",
    "- You do not need to worry about deleting objects, the interpreter will do everything for you"
   ]
  },
  {
   "cell_type": "markdown",
   "metadata": {
    "slideshow": {
     "slide_type": "slide"
    }
   },
   "source": [
    "## Dictionaries\n",
    "\n",
    "Dictionary is a universal tool for expressing relationships between objects, counting, grouping.\n",
    "\n",
    "They are also called **associative arrays or hash tables**."
   ]
  },
  {
   "cell_type": "code",
   "execution_count": null,
   "metadata": {},
   "outputs": [],
   "source": [
    "a = {'Key1' : 'Value1', 'Key2' : 'Value2'}\n",
    "a"
   ]
  },
  {
   "cell_type": "code",
   "execution_count": null,
   "metadata": {
    "slideshow": {
     "slide_type": "subslide"
    }
   },
   "outputs": [],
   "source": [
    "b = dict([(1, 1), (2, 4), (3, 9)])\n",
    "b"
   ]
  },
  {
   "cell_type": "markdown",
   "metadata": {},
   "source": [
    "- Any hashable object can be a key. (mutable == not hashable)\n",
    "\n",
    "The defnition of hashable from Python documentation:\n",
    "\n",
    "An object is hashable if it has a hash value which never changes during its lifetime (it needs a __hash__() method), and can be compared to other objects (it needs an __eq__() method). Hashable objects which compare equal must have the same hash value.\n",
    "\n",
    "Hashability makes an object usable as a dictionary key and a set member, because these data structures use the hash value internally.\n",
    "\n",
    "Most of Python’s immutable built-in objects are hashable; mutable containers (such as lists or dictionaries) are not; immutable containers (such as tuples and frozensets) are only hashable if their elements are hashable. Objects which are instances of user-defined classes are hashable by default. They all compare unequal (except with themselves), and their hash value is derived from their id().\n",
    "\n",
    "- In short, the object must have the `__hash __ ()` method defined correctly."
   ]
  },
  {
   "cell_type": "markdown",
   "metadata": {
    "slideshow": {
     "slide_type": "subslide"
    }
   },
   "source": [
    "hash(integer1) == integer1\n",
    "\n",
    "All of Python’s immutable built-in objects are hashable; mutable containers (such as lists or dictionaries) are not. Objects which are instances of user-defined classes are hashable by default. They all compare unequal (except with themselves), and their hash value is derived from their id()."
   ]
  },
  {
   "cell_type": "code",
   "execution_count": null,
   "metadata": {},
   "outputs": [],
   "source": [
    "hash(343)\n",
    "hash(True)\n",
    "hash('hello')"
   ]
  },
  {
   "cell_type": "code",
   "execution_count": null,
   "metadata": {},
   "outputs": [],
   "source": [
    "hash(6.5) # it's tricky to hash floats because of accuracy of float number representations\n",
    "          # message: you better be careful with hashing floats or even avoid it at all\n",
    "hash(round(6.50443,2)) # or at least you better use round() for hashing float"
   ]
  },
  {
   "cell_type": "code",
   "execution_count": null,
   "metadata": {
    "slideshow": {
     "slide_type": "subslide"
    }
   },
   "outputs": [],
   "source": [
    "print(hash('aaa'))\n",
    "print(hash('aab'))"
   ]
  },
  {
   "cell_type": "markdown",
   "metadata": {},
   "source": [
    "#### Note: after restarting the interpreter, complex objects (for example, strings) will have a different hash value"
   ]
  },
  {
   "cell_type": "markdown",
   "metadata": {
    "slideshow": {
     "slide_type": "subslide"
    }
   },
   "source": [
    "lists in Python are not hashable"
   ]
  },
  {
   "cell_type": "code",
   "execution_count": null,
   "metadata": {},
   "outputs": [],
   "source": [
    "[1].__hash__ is None  # __hash__ method is not defined for list"
   ]
  },
  {
   "cell_type": "markdown",
   "metadata": {
    "slideshow": {
     "slide_type": "subslide"
    }
   },
   "source": [
    "Can I use dict as a key for another dict?"
   ]
  },
  {
   "cell_type": "code",
   "execution_count": null,
   "metadata": {},
   "outputs": [],
   "source": [
    "d1 = {1: 'b'}\n",
    "d2 = {d1: 'abc'}"
   ]
  },
  {
   "cell_type": "code",
   "execution_count": null,
   "metadata": {
    "slideshow": {
     "slide_type": "subslide"
    }
   },
   "outputs": [],
   "source": [
    "{1: 'b'}.__hash__ is None  # dict is also not hashable"
   ]
  },
  {
   "cell_type": "markdown",
   "metadata": {
    "slideshow": {
     "slide_type": "subslide"
    }
   },
   "source": [
    "You can iterate through the dictionary, both by key and by value."
   ]
  },
  {
   "cell_type": "code",
   "execution_count": null,
   "metadata": {},
   "outputs": [],
   "source": [
    "# iterating\n",
    "dictionary = {'a': 1, 'b': 2, 'c': 3}\n",
    "   \n",
    "for k in dictionary.keys():\n",
    "    print(k)\n",
    "    \n",
    "print()\n",
    "    \n",
    "for k in dictionary:  # equivalent to iterating by keys but Python Zen says explicit is better than implicit\n",
    "    print(k)          # that's why it's better to add \".keys()\" in order to improve your code readability\n",
    "                      # too readable code hasn’t hurt anyone yet\n",
    "        \n",
    "# always keep order in mind!"
   ]
  },
  {
   "cell_type": "code",
   "execution_count": null,
   "metadata": {
    "slideshow": {
     "slide_type": "subslide"
    }
   },
   "outputs": [],
   "source": [
    "for v in dictionary.values(): # iterating by values\n",
    "    print(v)"
   ]
  },
  {
   "cell_type": "code",
   "execution_count": null,
   "metadata": {},
   "outputs": [],
   "source": [
    "for pair in dictionary.items(): # iterating by key-value pairs\n",
    "    print(pair)"
   ]
  },
  {
   "cell_type": "code",
   "execution_count": null,
   "metadata": {
    "slideshow": {
     "slide_type": "subslide"
    }
   },
   "outputs": [],
   "source": [
    "# constructors:\n",
    "a = dict(a=1, b=2, c=3)\n",
    "a\n",
    "keys = [\"Petya\", \"Vasya\", \"Masha\"]\n",
    "values = [20, 21, 22]\n",
    "\n",
    "dictionary = dict(zip(keys, values)) # probably the most convenient way to create a dict from two lists \n",
    "                                     # we will talk about zip() function later\n",
    "dictionary"
   ]
  },
  {
   "cell_type": "code",
   "execution_count": null,
   "metadata": {
    "slideshow": {
     "slide_type": "subslide"
    }
   },
   "outputs": [],
   "source": [
    "print(list(a.keys()))\n",
    "print(list(a.values()))\n",
    "print(list(a.items()))"
   ]
  },
  {
   "cell_type": "code",
   "execution_count": null,
   "metadata": {},
   "outputs": [],
   "source": [
    "del dictionary['Vasya']\n",
    "dictionary"
   ]
  },
  {
   "cell_type": "code",
   "execution_count": null,
   "metadata": {
    "slideshow": {
     "slide_type": "-"
    }
   },
   "outputs": [],
   "source": [
    "a.update(dictionary)  # union of two dicts\n",
    "a"
   ]
  },
  {
   "cell_type": "code",
   "execution_count": null,
   "metadata": {
    "slideshow": {
     "slide_type": "subslide"
    }
   },
   "outputs": [],
   "source": [
    "a[('Composite', 'Key')] = [1, 2, 3]   # only immutable objects could be keys in dicts\n",
    "a"
   ]
  },
  {
   "cell_type": "markdown",
   "metadata": {
    "slideshow": {
     "slide_type": "subslide"
    }
   },
   "source": [
    "## 5 minutes task\n",
    "### Use the new knowledge on dictionary iteration to reverse a dictionary, i.e. to create a dictionary with inverse pairs (value: key). Believe that in the original dictionary the values are also hashable."
   ]
  },
  {
   "cell_type": "markdown",
   "metadata": {
    "slideshow": {
     "slide_type": "slide"
    }
   },
   "source": [
    "### Remember list comprehensions? There are also dict comprehensions!"
   ]
  },
  {
   "cell_type": "code",
   "execution_count": null,
   "metadata": {},
   "outputs": [],
   "source": [
    "dct = {i : i ** 3 for i in range(5)}\n",
    "dct"
   ]
  },
  {
   "cell_type": "markdown",
   "metadata": {
    "slideshow": {
     "slide_type": "slide"
    }
   },
   "source": [
    "### Sets\n",
    "Sets are also based on hash-tables"
   ]
  },
  {
   "cell_type": "code",
   "execution_count": null,
   "metadata": {},
   "outputs": [],
   "source": [
    "a = {1, 2, 3}\n",
    "b = set([2, 3, 4])\n",
    "\n",
    "a.add(5)\n",
    "b.update({5, 6}) # update b with an argument set (union of b and an argument, the result is stored in b)\n",
    "a, b"
   ]
  },
  {
   "cell_type": "code",
   "execution_count": null,
   "metadata": {
    "slideshow": {
     "slide_type": "subslide"
    }
   },
   "outputs": [],
   "source": [
    "x in s\n",
    "x not in s\n",
    "s.issubset(t)   #equivalent to s <= t\n",
    "s.issuperset(t) #equivalent to s >= t"
   ]
  },
  {
   "cell_type": "code",
   "execution_count": null,
   "metadata": {},
   "outputs": [],
   "source": [
    "print(a - b)\n",
    "print(b - a)\n",
    "print(a | b) # объединение\n",
    "print(a & b) # пересечение\n",
    "print(a ^ b) # ~ XOR"
   ]
  },
  {
   "cell_type": "markdown",
   "metadata": {
    "slideshow": {
     "slide_type": "slide"
    }
   },
   "source": [
    "There are also set comprehensions"
   ]
  },
  {
   "cell_type": "code",
   "execution_count": null,
   "metadata": {},
   "outputs": [],
   "source": [
    "st = {i for i in range(10) if not i % 3}\n",
    "st"
   ]
  },
  {
   "cell_type": "code",
   "execution_count": null,
   "metadata": {
    "slideshow": {
     "slide_type": "subslide"
    }
   },
   "outputs": [],
   "source": [
    "d = {st: 1} # sets are also not hashable"
   ]
  },
  {
   "cell_type": "code",
   "execution_count": null,
   "metadata": {},
   "outputs": [],
   "source": [
    "d = {frozenset(st): 6}  # but there is a type frozenset that you actually can hash (because it's immutable!)\n",
    "d"
   ]
  },
  {
   "cell_type": "markdown",
   "metadata": {
    "slideshow": {
     "slide_type": "slide"
    }
   },
   "source": [
    "# When to use dict and set?\n",
    "\n",
    "### Establishing a one to one correspondence among two sets of objects (e.g. it is convenient to implement a dictionary for translation from one language to another)\n",
    "\n",
    "### Counting unique elements\n",
    "\n",
    "### Fast checking an element for occurence (a key search in dict and set is performed in O (1) (on average): a hash is calculated from the object and it is checked whether there is such a hash in the container)\n"
   ]
  },
  {
   "cell_type": "code",
   "execution_count": null,
   "metadata": {
    "slideshow": {
     "slide_type": "subslide"
    }
   },
   "outputs": [],
   "source": [
    "2 in a     # O(1)"
   ]
  },
  {
   "cell_type": "markdown",
   "metadata": {
    "slideshow": {
     "slide_type": "subslide"
    }
   },
   "source": [
    "### \"Interview tasks\"\n",
    "\n",
    "Given two sorted lists with numbers (not necessarily the same length). Print all the numbers that are in the first list, but not in the second"
   ]
  },
  {
   "cell_type": "code",
   "execution_count": 23,
   "metadata": {},
   "outputs": [],
   "source": [
    "lst1 = [1, 2, 8]\n",
    "lst2 = [2, 6]"
   ]
  },
  {
   "cell_type": "markdown",
   "metadata": {
    "slideshow": {
     "slide_type": "subslide"
    }
   },
   "source": [
    "#### method 1: using set"
   ]
  },
  {
   "cell_type": "code",
   "execution_count": null,
   "metadata": {},
   "outputs": [],
   "source": [
    "# способ 1\n",
    "set(lst1) - set(lst2) "
   ]
  },
  {
   "cell_type": "markdown",
   "metadata": {},
   "source": [
    "formally for O (n) in time (O (n) takes to create a set, but with a considerable constant), but requires additional memory, and sorted property is not used"
   ]
  },
  {
   "cell_type": "markdown",
   "metadata": {
    "slideshow": {
     "slide_type": "subslide"
    }
   },
   "source": [
    "#### method 2: let's think how to do it in O(n) time but without additional memory"
   ]
  },
  {
   "cell_type": "code",
   "execution_count": 18,
   "metadata": {},
   "outputs": [],
   "source": [
    "lst1 = [1, 2, 8]\n",
    "lst2 = [2, 6]"
   ]
  },
  {
   "cell_type": "code",
   "execution_count": null,
   "metadata": {
    "slideshow": {
     "slide_type": "subslide"
    }
   },
   "outputs": [],
   "source": [
    "i, j = 0, 0\n",
    "\n",
    "while i < len(lst1):\n",
    "\n",
    "    if j >= len(lst2) or lst1[i] < lst2[j]: \n",
    "        \n",
    "        print(lst1[i])\n",
    "        i += 1\n",
    "   \n",
    "    elif lst1[i] == lst2[j]:\n",
    "        \n",
    "        i += 1\n",
    "    \n",
    "    else:\n",
    "        \n",
    "        j += 1"
   ]
  },
  {
   "cell_type": "markdown",
   "metadata": {
    "slideshow": {
     "slide_type": "slide"
    }
   },
   "source": [
    "### collections\n",
    "\n",
    "The objects in Collections are dictionaries modified for different needs and some other convenient data structures.\n",
    "\n",
    "A good overview of the collections module can be read [here](https://pythonworld.ru/moduli/modul-collections.html) "
   ]
  },
  {
   "cell_type": "code",
   "execution_count": null,
   "metadata": {},
   "outputs": [],
   "source": [
    "from collections import defaultdict\n",
    "dct = defaultdict(float)\n",
    "\n",
    "print(dct[2]) # if a key is not in dict, it creates a pair {a key: default value} instead of raising an error\n",
    "print(dct)"
   ]
  },
  {
   "cell_type": "code",
   "execution_count": null,
   "metadata": {
    "slideshow": {
     "slide_type": "subslide"
    }
   },
   "outputs": [],
   "source": [
    "from collections import deque\n",
    "q = deque()\n",
    "\n",
    "for i in range(10):\n",
    "    q.append(i)\n",
    "\n",
    "while len(q) > 5: \n",
    "    print(q.pop(), q) # O(1)\n",
    "\n",
    "print()\n",
    "    \n",
    "while len(q):  # while deque is not empty\n",
    "    print(q.popleft(), q) # O(1)"
   ]
  },
  {
   "cell_type": "code",
   "execution_count": null,
   "metadata": {
    "slideshow": {
     "slide_type": "subslide"
    }
   },
   "outputs": [],
   "source": [
    "from collections import OrderedDict # remembers the order in which the keys were created\n",
    "\n",
    "data = [(1, 'a'), (3, 'c'), (2, 'b')]\n",
    "\n",
    "print(dict(data))\n",
    "print(OrderedDict(data))"
   ]
  },
  {
   "cell_type": "code",
   "execution_count": null,
   "metadata": {},
   "outputs": [],
   "source": []
  },
  {
   "cell_type": "code",
   "execution_count": null,
   "metadata": {},
   "outputs": [],
   "source": []
  }
 ],
 "metadata": {
  "celltoolbar": "Slideshow",
  "kernelspec": {
   "display_name": "Python 3",
   "language": "python",
   "name": "python3"
  },
  "language_info": {
   "codemirror_mode": {
    "name": "ipython",
    "version": 3
   },
   "file_extension": ".py",
   "mimetype": "text/x-python",
   "name": "python",
   "nbconvert_exporter": "python",
   "pygments_lexer": "ipython3",
   "version": "3.6.6"
  }
 },
 "nbformat": 4,
 "nbformat_minor": 2
}
